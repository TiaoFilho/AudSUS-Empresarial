# Geracao de KPIs Gold com PySpark

